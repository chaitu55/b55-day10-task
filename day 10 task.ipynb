{
 "cells": [
  {
   "cell_type": "code",
   "execution_count": 1,
   "id": "2746ec5e",
   "metadata": {},
   "outputs": [],
   "source": [
    "alien={'color': 'green', 'points': 5, 'start_position': 0}"
   ]
  },
  {
   "cell_type": "code",
   "execution_count": 2,
   "id": "ca7b486a",
   "metadata": {},
   "outputs": [
    {
     "name": "stdout",
     "output_type": "stream",
     "text": [
      "{'color': 'green', 'points': 5, 'start_position': 0}\n"
     ]
    }
   ],
   "source": [
    "print(alien)"
   ]
  },
  {
   "cell_type": "code",
   "execution_count": 3,
   "id": "283ef9fa",
   "metadata": {},
   "outputs": [],
   "source": [
    "# to find what data type"
   ]
  },
  {
   "cell_type": "code",
   "execution_count": 4,
   "id": "ffc6f685",
   "metadata": {},
   "outputs": [
    {
     "data": {
      "text/plain": [
       "dict"
      ]
     },
     "execution_count": 4,
     "metadata": {},
     "output_type": "execute_result"
    }
   ],
   "source": [
    "type(alien)"
   ]
  },
  {
   "cell_type": "code",
   "execution_count": 5,
   "id": "ed564933",
   "metadata": {},
   "outputs": [
    {
     "name": "stdout",
     "output_type": "stream",
     "text": [
      "color\n",
      "green\n",
      "points\n",
      "5\n",
      "start_position\n",
      "0\n"
     ]
    }
   ],
   "source": [
    "for k,v in alien.items():\n",
    "    print(k)\n",
    "    print(v)"
   ]
  },
  {
   "cell_type": "code",
   "execution_count": 6,
   "id": "9931e143",
   "metadata": {},
   "outputs": [],
   "source": [
    "# enhancement of code"
   ]
  },
  {
   "cell_type": "code",
   "execution_count": 8,
   "id": "62a030be",
   "metadata": {},
   "outputs": [
    {
     "name": "stdout",
     "output_type": "stream",
     "text": [
      "key:color\n",
      "value:green\n",
      "key:points\n",
      "value:5\n",
      "key:start_position\n",
      "value:0\n"
     ]
    }
   ],
   "source": [
    "for k,v in alien.items():\n",
    "    print(f\"key:{k}\")\n",
    "    print(f\"value:{v}\")"
   ]
  },
  {
   "cell_type": "code",
   "execution_count": 9,
   "id": "2e615b18",
   "metadata": {},
   "outputs": [
    {
     "name": "stdout",
     "output_type": "stream",
     "text": [
      "key:color\n",
      "value:green\n",
      "\n",
      "key:points\n",
      "value:5\n",
      "\n",
      "key:start_position\n",
      "value:0\n",
      "\n"
     ]
    }
   ],
   "source": [
    "for k,v in alien.items():\n",
    "    print(f\"key:{k}\")\n",
    "    print(f\"value:{v}\\n\")\n",
    "\n"
   ]
  },
  {
   "cell_type": "code",
   "execution_count": 10,
   "id": "f3fbb0d2",
   "metadata": {},
   "outputs": [],
   "source": [
    "# to get only keys from dictionary"
   ]
  },
  {
   "cell_type": "code",
   "execution_count": 13,
   "id": "6179c6aa",
   "metadata": {},
   "outputs": [
    {
     "name": "stdout",
     "output_type": "stream",
     "text": [
      "key:color\n",
      "key:points\n",
      "key:start_position\n"
     ]
    }
   ],
   "source": [
    "for k in alien.keys():\n",
    "    print(f\"key:{k}\")"
   ]
  },
  {
   "cell_type": "code",
   "execution_count": 14,
   "id": "f56199c6",
   "metadata": {},
   "outputs": [],
   "source": [
    "# to get only values from dictionary"
   ]
  },
  {
   "cell_type": "code",
   "execution_count": 15,
   "id": "e94f95c6",
   "metadata": {},
   "outputs": [
    {
     "name": "stdout",
     "output_type": "stream",
     "text": [
      "values:green\n",
      "values:5\n",
      "values:0\n"
     ]
    }
   ],
   "source": [
    "for v in alien.values():\n",
    "    print(f\"values:{v}\")"
   ]
  },
  {
   "cell_type": "code",
   "execution_count": null,
   "id": "72103e1f",
   "metadata": {},
   "outputs": [],
   "source": []
  }
 ],
 "metadata": {
  "kernelspec": {
   "display_name": "Python 3 (ipykernel)",
   "language": "python",
   "name": "python3"
  },
  "language_info": {
   "codemirror_mode": {
    "name": "ipython",
    "version": 3
   },
   "file_extension": ".py",
   "mimetype": "text/x-python",
   "name": "python",
   "nbconvert_exporter": "python",
   "pygments_lexer": "ipython3",
   "version": "3.9.7"
  }
 },
 "nbformat": 4,
 "nbformat_minor": 5
}
